{
 "cells": [
  {
   "cell_type": "markdown",
   "metadata": {},
   "source": [
    "# SVI拟合\n",
    "*********\n",
    "根据Zeliade Systems在2009年提出Quasi—Explicit方法对Jim Gatheral的SVI模型进行拟合。为了验证算法的有效性，首先对根据初始的SVI模型生成的模拟数据进行了拟合。SVI中的5个参数$a,b,\\rho,m,\\sigma$分别被设置为$0.04,0.1,-0.5,0,0.1$。"
   ]
  },
  {
   "cell_type": "code",
   "execution_count": 35,
   "metadata": {},
   "outputs": [],
   "source": [
    "import numpy as np\n",
    "import pandas as pd\n",
    "import scipy.optimize as opt\n",
    "import cvxpy as cp\n",
    "import random"
   ]
  },
  {
   "cell_type": "markdown",
   "metadata": {},
   "source": [
    "## 模拟数据生成\n",
    "这里出于方便默认到期时间 $\\tau=1$。"
   ]
  },
  {
   "cell_type": "code",
   "execution_count": 36,
   "metadata": {},
   "outputs": [],
   "source": [
    "def svi_raw(x, params):\n",
    "    a, b, rho, m, sigma = params\n",
    "    v = a+b*(rho*(x-m)+np.sqrt(np.square(x-m)+np.square(sigma)) ) \n",
    "    return v\n",
    "\n",
    "def SIM():\n",
    "    ## x:log-forwardmoneyness\n",
    "    params = (.04, .1, -.5, .0, .1)\n",
    "    a, b, rho, m, sigma = params\n",
    "    x = np.linspace(-.5, .5, 10)\n",
    "    iv = svi_raw(x, params)\n",
    "    return x, iv\n",
    "\n",
    "def get_params():\n",
    "    params = (.04, .1, -.5, .0, .1)\n",
    "    return params\n",
    "\n",
    "x, iv  = SIM()"
   ]
  },
  {
   "cell_type": "code",
   "execution_count": 37,
   "metadata": {},
   "outputs": [],
   "source": [
    "def svi_quasi(x, p1 ,p2):\n",
    "    a, d, c = p1\n",
    "    m, sigma = p2\n",
    "    y = (x-m)/sigma\n",
    "    v = a+d*y+c*np.sqrt(y*y+1)\n",
    "    return v\n",
    "\n",
    "def svi_quasi_rmse(iv, x, p1, p2):\n",
    "    rmse = np.sqrt(np.mean(np.square(svi_quasi(x, p1, p2)- iv)))\n",
    "    return rmse"
   ]
  },
  {
   "cell_type": "markdown",
   "metadata": {},
   "source": [
    "## 内层优化\n",
    "内层优化的过程相当于求解带有约束条件的凸优化问题，这里采用了第三方库cvxpy来解决该问题。\\\n",
    "cvxpy官方文档地址：\n",
    "https://www.cvxpy.org"
   ]
  },
  {
   "cell_type": "code",
   "execution_count": 38,
   "metadata": {},
   "outputs": [],
   "source": [
    "def opt_inner(x, iv, params):\n",
    "    m, sigma = params\n",
    "    y = np.array((x-m)/sigma)\n",
    "    A = np.array([np.ones((y.shape[0], )), y, np.sqrt(y*y+1)], dtype=float).T\n",
    "    p = cp.Variable(3)\n",
    "    objective = cp.Minimize(cp.sum_squares(A@p-iv))\n",
    "    constraints = [p[2] >= 0, 4*sigma-p[2] >= 0,\n",
    "                    p[2]-p[1] >= 0, 4*sigma-p[2]-p[1] >= 0,\n",
    "                    p[2]+p[1] >= 0, p[2]-p[1]-4*sigma <= 0,\n",
    "                    p[0] >= 0, iv.max()-p[0] >= 0]\n",
    "    prob = cp.Problem(objective, constraints)\n",
    "    prob.solve()\n",
    "    return p.value"
   ]
  },
  {
   "cell_type": "markdown",
   "metadata": {},
   "source": [
    "## 外层优化"
   ]
  },
  {
   "cell_type": "code",
   "execution_count": 39,
   "metadata": {},
   "outputs": [],
   "source": [
    "def opt_outer(x, iv, params1, params2):\n",
    "    fun = lambda p: svi_quasi_rmse(iv, x, params1, p)\n",
    "    b1 = (2*min(x.min(), 0), 2*max(x.max(), 0))\n",
    "    b2 = (1e-10, 1.)\n",
    "    res = opt.minimize(fun, params2, method='Nelder-Mead', bounds=(b1, b2), tol=1e-24).x\n",
    "    return res"
   ]
  },
  {
   "cell_type": "markdown",
   "metadata": {},
   "source": [
    "## 拟合函数"
   ]
  },
  {
   "cell_type": "code",
   "execution_count": 40,
   "metadata": {},
   "outputs": [],
   "source": [
    "def calibration(x, iv, maxiter = 10000):\n",
    "    m = 2*min(x.min(), 0)+random.random()*(2*max(x.max(), 0)-2*min(x.min(), 0))\n",
    "    sigma = 1e-10+random.random()*(1-1e-10)\n",
    "    # 随机选择m与sigma的初始值\n",
    "    p2 = m, sigma\n",
    "    p1 = opt_inner(x, iv, p2)\n",
    "    r = []\n",
    "    for i in range(maxiter):\n",
    "        p2 = opt_outer(x, iv, p1, p2)\n",
    "        p1 = opt_inner(x, iv, p2)\n",
    "        r.append(svi_quasi_rmse(iv, x, p1, p2))\n",
    "    return p1, p2, r[-1]"
   ]
  },
  {
   "cell_type": "markdown",
   "metadata": {},
   "source": [
    "## 拟合结果"
   ]
  },
  {
   "cell_type": "code",
   "execution_count": 41,
   "metadata": {},
   "outputs": [
    {
     "name": "stdout",
     "output_type": "stream",
     "text": [
      "RMSE: 2.498735280520817e-07\n"
     ]
    },
    {
     "data": {
      "text/html": [
       "<div>\n",
       "<style scoped>\n",
       "    .dataframe tbody tr th:only-of-type {\n",
       "        vertical-align: middle;\n",
       "    }\n",
       "\n",
       "    .dataframe tbody tr th {\n",
       "        vertical-align: top;\n",
       "    }\n",
       "\n",
       "    .dataframe thead th {\n",
       "        text-align: right;\n",
       "    }\n",
       "</style>\n",
       "<table border=\"1\" class=\"dataframe\">\n",
       "  <thead>\n",
       "    <tr style=\"text-align: right;\">\n",
       "      <th></th>\n",
       "      <th>a</th>\n",
       "      <th>b</th>\n",
       "      <th>rho</th>\n",
       "      <th>m</th>\n",
       "      <th>sigma</th>\n",
       "    </tr>\n",
       "  </thead>\n",
       "  <tbody>\n",
       "    <tr>\n",
       "      <th>拟合值</th>\n",
       "      <td>0.039998</td>\n",
       "      <td>0.100004</td>\n",
       "      <td>-0.499982</td>\n",
       "      <td>-6.003000e-07</td>\n",
       "      <td>0.100025</td>\n",
       "    </tr>\n",
       "    <tr>\n",
       "      <th>真实值</th>\n",
       "      <td>0.040000</td>\n",
       "      <td>0.100000</td>\n",
       "      <td>-0.500000</td>\n",
       "      <td>0.000000e+00</td>\n",
       "      <td>0.100000</td>\n",
       "    </tr>\n",
       "  </tbody>\n",
       "</table>\n",
       "</div>"
      ],
      "text/plain": [
       "            a         b       rho             m     sigma\n",
       "拟合值  0.039998  0.100004 -0.499982 -6.003000e-07  0.100025\n",
       "真实值  0.040000  0.100000 -0.500000  0.000000e+00  0.100000"
      ]
     },
     "execution_count": 41,
     "metadata": {},
     "output_type": "execute_result"
    }
   ],
   "source": [
    "inner, outer, rmse = calibration(x, iv)\n",
    "a = inner[0]\n",
    "b = inner[2]/outer[1]\n",
    "rho = inner[1]/inner[2]\n",
    "m = outer[0]\n",
    "sigma = outer[1]\n",
    "fitted_value = np.array([a, b, rho, m, sigma])\n",
    "true_value = np.array(get_params())\n",
    "res = pd.DataFrame(np.vstack((fitted_value, true_value)), \n",
    "                   index = (\"拟合值\", \"真实值\"), columns=(\"a\", \"b\", \"rho\", \"m\", \"sigma\"))\n",
    "print(\"RMSE:\",rmse)\n",
    "res.round(10)\n"
   ]
  },
  {
   "cell_type": "markdown",
   "metadata": {},
   "source": [
    "## 隐含波动率曲线"
   ]
  },
  {
   "cell_type": "code",
   "execution_count": 42,
   "metadata": {},
   "outputs": [
    {
     "name": "stderr",
     "output_type": "stream",
     "text": [
      "No handles with labels found to put in legend.\n"
     ]
    },
    {
     "data": {
      "image/png": "[encoded data removed]",
      "text/plain": [
       "<Figure size 576x288 with 1 Axes>"
      ]
     },
     "metadata": {
      "needs_background": "light"
     },
     "output_type": "display_data"
    }
   ],
   "source": [
    "import matplotlib.pyplot as plt\n",
    "\n",
    "scale = (max(x)-min(x))*.1\n",
    "lmax,lmin = min(x)-scale,max(x)+scale\n",
    "lin = np.linspace(lmin,lmax,100)\n",
    "plt.figure(figsize=(8, 4))\n",
    "plt.plot(x, np.sqrt(iv), '+', markersize=12)\n",
    "plt.plot(lin, np.sqrt(svi_raw(lin, fitted_value)),linewidth=1)\n",
    "plt.title(\"Implied Volatility Curve\")\n",
    "plt.xlabel(\"Log Foward Moneyness\", fontsize=12)\n",
    "plt.legend()\n",
    "plt.show()"
   ]
  }
 ],
 "metadata": {
  "kernelspec": {
   "display_name": "Python 3.9.7 ('base')",
   "language": "python",
   "name": "python3"
  },
  "language_info": {
   "codemirror_mode": {
    "name": "ipython",
    "version": 3
   },
   "file_extension": ".py",
   "mimetype": "text/x-python",
   "name": "python",
   "nbconvert_exporter": "python",
   "pygments_lexer": "ipython3",
   "version": "3.9.7"
  },
  "orig_nbformat": 4,
  "vscode": {
   "interpreter": {
    "hash": "a04f5d07b0747026a8fbcdf50b9443318e69b1b8bd6247d88bfadb4789282972"
   }
  }
 },
 "nbformat": 4,
 "nbformat_minor": 2
}
