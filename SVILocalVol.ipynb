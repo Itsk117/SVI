{
 "cells": [
  {
   "cell_type": "code",
   "execution_count": 5,
   "metadata": {},
   "outputs": [],
   "source": [
    "import numpy as np\n",
    "import pandas as pd\n",
    "from scipy import interpolate"
   ]
  },
  {
   "cell_type": "code",
   "execution_count": null,
   "metadata": {},
   "outputs": [],
   "source": [
    "    # return (1.-0.5*x*w1/w)*(1.-0.5*x*w1/w) - 0.25*w1*w1*(0.25 + 1./w) + 0.5*w2"
   ]
  },
  {
   "cell_type": "code",
   "execution_count": 6,
   "metadata": {},
   "outputs": [],
   "source": [
    "def svi_raw(x, params):\n",
    "    a, b, rho, m, sigma = params\n",
    "    v = a+b*(rho*(x-m)+np.sqrt(np.square(x-m)+np.square(sigma)))\n",
    "    return v\n",
    "\n",
    "def svi1(x, t, params):\n",
    "    a, b, rho, m, sigma = params\n",
    "    return b*rho*t+b*t*(x-m)/np.sqrt(np.square(x-m)+np.square(sigma))\n",
    "\n",
    "def svi2(x, t, params):\n",
    "    a, b, rho, m, sigma = params\n",
    "    return b*t*np.square(sigma)/(np.square(x-m)+np.square(sigma))**1.5\n",
    "\n",
    "def total_variance(x, t, params):\n",
    "    return svi_raw(x,params)*t"
   ]
  },
  {
   "cell_type": "code",
   "execution_count": 2,
   "metadata": {},
   "outputs": [],
   "source": [
    "params = {.16:[.03, .125, -1., .074, .05],\n",
    "          .26:[.032, .094, -1., .093, .041], \n",
    "          .33:[.028, .105, -1, .096, .072], \n",
    "          .58:[.026, .08, -1., .127, .098]}\n",
    "tt = list(params.keys())"
   ]
  },
  {
   "cell_type": "code",
   "execution_count": 44,
   "metadata": {},
   "outputs": [],
   "source": [
    "def g(x, t, params):\n",
    "    w = svi_raw(x,params)*t\n",
    "    w1 = svi1(x, t, params)\n",
    "    w2 = svi2(x, t, params)\n",
    "    wt = svi_raw(x, params)\n",
    "    g = (1.-.5*x*w1/w)*(1.-.5*x*w1/w)-.25*w1*w1*(.25+1./w)+.5*w2\n",
    "    return g\n",
    "\n",
    "def local_variance(x, t, tt, params):\n",
    "    wt = np.array([svi_raw(x, params[i]) for i in tt])\n",
    "    funct = interpolate.UnivariateSpline(tt, wt, s=0, k=1)\n",
    "    gt = np.array([g(x, i, params[i]) for i in tt])\n",
    "    funcg = interpolate.UnivariateSpline(tt, gt, s=0, k=2)\n",
    "    return funct(t)/funcg(t)"
   ]
  },
  {
   "cell_type": "code",
   "execution_count": 42,
   "metadata": {},
   "outputs": [
    {
     "data": {
      "text/plain": [
       "1.0697259611939036"
      ]
     },
     "execution_count": 42,
     "metadata": {},
     "output_type": "execute_result"
    }
   ],
   "source": [
    "g(.2, .2, params[.16])"
   ]
  },
  {
   "cell_type": "code",
   "execution_count": 45,
   "metadata": {},
   "outputs": [
    {
     "data": {
      "text/plain": [
       "0.01595643140912676"
      ]
     },
     "execution_count": 45,
     "metadata": {},
     "output_type": "execute_result"
    }
   ],
   "source": [
    "T = np.linspace(0, .1, 100)\n",
    "X = np.linspace(-.2, .2, 100)\n",
    "lv = pd.DataFrame([[local_variance(i, j, tt, params) for i in X] for j in T], columns=X, index=T)\n",
    "lv.min().min()"
   ]
  },
  {
   "cell_type": "code",
   "execution_count": 58,
   "metadata": {},
   "outputs": [],
   "source": [
    "def localvol_MonteCarlo(s0, K, rf, q, t, tt, params, M=100, N=10000, flag=1):\n",
    "    \n",
    "    s = np.ones((N,))*s0\n",
    "    dt = t/M\n",
    "    tau = t\n",
    "    x = np.log(K/(s*np.exp((rf-q)*tau)))\n",
    "    ss = []\n",
    "    for i in range(M):\n",
    "        dw = np.random.randn(N, )*np.sqrt(dt)\n",
    "        sigma = np.array([np.sqrt(local_variance(j, tau, tt, params)) for j in x])\n",
    "        # sigma = np.array([local_variance(j, tau, tt, params) for j in x])\n",
    "        s = s*np.exp((rf-q-.5*np.square(sigma))*dt+sigma*dw)\n",
    "        tau -= dt\n",
    "        x = np.log(K/(s*np.exp((rf-q)*tau)))\n",
    "        pay_off = s-K\n",
    "        pay_off = pay_off[pay_off > 0]\n",
    "        V = pay_off.sum()/(N*np.exp((rf-q)*t))\n",
    "        \n",
    "    return V"
   ]
  },
  {
   "cell_type": "code",
   "execution_count": 60,
   "metadata": {},
   "outputs": [
    {
     "data": {
      "text/plain": [
       "5.256979806419607"
      ]
     },
     "execution_count": 60,
     "metadata": {},
     "output_type": "execute_result"
    }
   ],
   "source": [
    "localvol_MonteCarlo(100, 105, .03, .0, .5, tt, params)"
   ]
  },
  {
   "cell_type": "code",
   "execution_count": 51,
   "metadata": {},
   "outputs": [],
   "source": [
    "def svi_surface(x, t, tt, params):\n",
    "    w = np.array([svi_raw(x, params[i]) for i in tt])\n",
    "    func = interpolate.UnivariateSpline(tt, w, s=0, k=1)\n",
    "    return np.sqrt(func(t))"
   ]
  },
  {
   "cell_type": "code",
   "execution_count": 52,
   "metadata": {},
   "outputs": [
    {
     "data": {
      "text/plain": [
       "0.2448364143530775"
      ]
     },
     "execution_count": 52,
     "metadata": {},
     "output_type": "execute_result"
    }
   ],
   "source": [
    "rf, q, t = .03, 0., .5\n",
    "F = np.log(100/(105*np.exp((rf-q)*t)))\n",
    "svi_surface(F, t, tt, params)"
   ]
  },
  {
   "cell_type": "code",
   "execution_count": 53,
   "metadata": {},
   "outputs": [],
   "source": [
    "from scipy.stats import norm\n",
    "\n",
    "def BlackScholesCore(CallPutFlag,DF,F,X,T,v):\n",
    "    ## DF: discount factor\n",
    "    ## F: Forward\n",
    "    ## X: strike\n",
    "    vsqrt=v*np.sqrt(T)\n",
    "    d1 = (np.log(F/X)+(vsqrt*vsqrt/2.))/vsqrt\n",
    "    d2 = d1-vsqrt\n",
    "    if CallPutFlag:\n",
    "        return DF*(F*norm.cdf(d1)-X*norm.cdf(d2))\n",
    "    else:\n",
    "        return DF*(X*norm.cdf(-d2)-F*norm.cdf(-d1))\n",
    "    \n",
    "##  Black-Scholes Pricing Function\n",
    "def BlackScholes(CallPutFlag,S,X,T,r,d,v):\n",
    "    ## r, d: continuous interest rate and dividend\n",
    "    return BlackScholesCore(CallPutFlag,np.exp(-r*T),np.exp((r-d)*T)*S,X,T,v)\n",
    "\n"
   ]
  },
  {
   "cell_type": "code",
   "execution_count": 63,
   "metadata": {},
   "outputs": [
    {
     "name": "stdout",
     "output_type": "stream",
     "text": [
      "bsm: 5.431125795216952\n",
      "LocalVol_MonteCarlo: 4.721396971555975\n"
     ]
    }
   ],
   "source": [
    "c1 = BlackScholes(1, 100, 105, t, rf, q, svi_surface(F, t, tt, params))\n",
    "c2 = localvol_MonteCarlo(100, 105, .03, .0, .5, tt, params)\n",
    "print(\"bsm:\", c1)\n",
    "print(\"LocalVol_MonteCarlo:\", c2)"
   ]
  }
 ],
 "metadata": {
  "kernelspec": {
   "display_name": "Python 3.9.7 ('base')",
   "language": "python",
   "name": "python3"
  },
  "language_info": {
   "codemirror_mode": {
    "name": "ipython",
    "version": 3
   },
   "file_extension": ".py",
   "mimetype": "text/x-python",
   "name": "python",
   "nbconvert_exporter": "python",
   "pygments_lexer": "ipython3",
   "version": "3.9.7"
  },
  "orig_nbformat": 4,
  "vscode": {
   "interpreter": {
    "hash": "a04f5d07b0747026a8fbcdf50b9443318e69b1b8bd6247d88bfadb4789282972"
   }
  }
 },
 "nbformat": 4,
 "nbformat_minor": 2
}
